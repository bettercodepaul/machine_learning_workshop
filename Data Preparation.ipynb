{
 "cells": [
  {
   "cell_type": "code",
   "execution_count": null,
   "metadata": {},
   "outputs": [],
   "source": [
    "import polars as pl"
   ]
  },
  {
   "cell_type": "code",
   "execution_count": null,
   "metadata": {},
   "outputs": [],
   "source": [
    "df = pl.read_csv(\"AmesHousing_Original.csv\")\n",
    "df.head()"
   ]
  },
  {
   "cell_type": "code",
   "execution_count": null,
   "metadata": {},
   "outputs": [],
   "source": [
    "df.select(\n",
    "    pl.col(\"Neighborhood\").alias(\"Nachbarschaft\"),\n",
    "    pl.col(\"Overall Qual\").alias(\"Qualitaet\"),\n",
    "    pl.col(\"Overall Cond\").alias(\"Zustand\"),\n",
    "    pl.col(\"Year Built\").alias(\"Baujahr\"),\n",
    "    pl.col(\"Gr Liv Area\").alias(\"Wohnflaeche\"),\n",
    "    pl.col(\"TotRms AbvGrd\").alias(\"Zimmer\"),\n",
    "    pl.col(\"Fireplaces\").alias(\"Kamine\"),\n",
    "    pl.col(\"Yr Sold\").alias(\"Verkaufsjahr\"),\n",
    "    pl.col(\"SalePrice\").alias(\"Preis\")\n",
    ").write_csv(\"AmesHousing.csv\")"
   ]
  }
 ],
 "metadata": {
  "kernelspec": {
   "display_name": ".venv",
   "language": "python",
   "name": "python3"
  },
  "language_info": {
   "codemirror_mode": {
    "name": "ipython",
    "version": 3
   },
   "file_extension": ".py",
   "mimetype": "text/x-python",
   "name": "python",
   "nbconvert_exporter": "python",
   "pygments_lexer": "ipython3",
   "version": "3.10.13"
  }
 },
 "nbformat": 4,
 "nbformat_minor": 2
}
