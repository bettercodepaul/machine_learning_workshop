{
  "cells": [
    {
      "cell_type": "markdown",
      "metadata": {},
      "source": [
        "<a target=\"_blank\" href=\"https://colab.research.google.com/github/bettercodepaul/machine_learning_workshop/blob/main/Predictive_Analytics_Einführung.ipynb\">\n",
        "  <img src=\"https://colab.research.google.com/assets/colab-badge.svg\" alt=\"Open In Colab\"/>\n",
        "</a>"
      ]
    },
    {
      "cell_type": "code",
      "execution_count": null,
      "metadata": {
        "colab": {
          "base_uri": "https://localhost:8080/"
        },
        "id": "nKtfaMT44XC6",
        "outputId": "8f222832-f177-4449-9149-522bd240ffa3"
      },
      "outputs": [],
      "source": [
        "import urllib.request\n",
        "import os.path\n",
        "\n",
        "import polars as pl\n",
        "import plotly.express as px\n",
        "\n",
        "from sklearn.linear_model import LinearRegression\n",
        "from sklearn.model_selection import train_test_split\n",
        "from sklearn import metrics"
      ]
    },
    {
      "cell_type": "code",
      "execution_count": null,
      "metadata": {},
      "outputs": [],
      "source": [
        "# download CSV data\n",
        "DATA_URL = \"https://raw.githubusercontent.com/bettercodepaul/machine_learning_workshop/main/AmesHousing.csv\"\n",
        "LOCAL_DATA_FILE_NAME = os.path.basename(DATA_URL)\n",
        "urllib.request.urlretrieve(DATA_URL, LOCAL_DATA_FILE_NAME)"
      ]
    },
    {
      "cell_type": "code",
      "execution_count": null,
      "metadata": {},
      "outputs": [],
      "source": [
        "# download excercises and utility functions\n",
        "EXERCISES_URL = \"https://raw.githubusercontent.com/bettercodepaul/machine_learning_workshop/main/exercises.py\"\n",
        "urllib.request.urlretrieve(EXERCISES_URL, os.path.basename(EXERCISES_URL))"
      ]
    },
    {
      "cell_type": "code",
      "execution_count": null,
      "metadata": {},
      "outputs": [],
      "source": [
        "from exercises import *"
      ]
    },
    {
      "cell_type": "markdown",
      "metadata": {
        "id": "MpPtY3ulEVe8"
      },
      "source": [
        "# Verkaufspreise von Häusern vorhersagen\n",
        "\n",
        "Zuerst lesen wir die Daten ein und machen ein wenig EDA.\n",
        "\n",
        "Mit der Funktion `read_csv` von Pandas können wir die Daten einlesen."
      ]
    },
    {
      "cell_type": "code",
      "execution_count": null,
      "metadata": {
        "colab": {
          "base_uri": "https://localhost:8080/"
        },
        "id": "mOTqzdEB4Ya0",
        "outputId": "dbb508ea-1039-478a-ead7-1899d33a50b5"
      },
      "outputs": [],
      "source": [
        "df = pl.read_csv(\"AmesHousing.csv\")"
      ]
    },
    {
      "cell_type": "code",
      "execution_count": null,
      "metadata": {},
      "outputs": [],
      "source": [
        "# die Funktion head gibt die ersten fünf Datensätze aus\n",
        "df.head()"
      ]
    },
    {
      "cell_type": "code",
      "execution_count": null,
      "metadata": {},
      "outputs": [],
      "source": [
        "# die Funktion describe gibt ein paar statistische Infos je Spalte aus\n",
        "df.describe()"
      ]
    },
    {
      "cell_type": "markdown",
      "metadata": {
        "id": "Ol6mfOPWEnpt"
      },
      "source": [
        "Wir haben 9 unterschiedliche Informationen über die Hausverkäufe:\n",
        "\n",
        "* Nachbarschaft: In welcher Nachbarschaft steht das Haus?\n",
        "* Qualität: Wie ist die Qualität der Materialien des Hauses?\n",
        "* Zustand: Wie ist der Zustand des Hauses?\n",
        "* Wohnflaeche: Wie groß ist die Wohnfläche in Quadratfuß?\n",
        "* Baujahr: Wann wurde das Haus gebaut?\n",
        "* Verkaufsjahr: Wann wurde das Haus verkauft?\n",
        "* Preis: Für wie viel US-Dollar wurde das Haus verkauft?"
      ]
    },
    {
      "cell_type": "markdown",
      "metadata": {
        "id": "wYQ6Wt8EFcFB"
      },
      "source": [
        "Mit der Funktion `scatter` von Plotly kannst Du einen Scatterplot zeichnen, der gut ist um die Zusammenhänge zwischen Variablen zu erkennen. Betrachte den Zusammenhang zwischen den unterschiedlichen Variablen und der Zielvariable `Preis`. Gibt es Ausreißer bei der Wohnfläche?"
      ]
    },
    {
      "cell_type": "code",
      "execution_count": null,
      "metadata": {
        "colab": {
          "base_uri": "https://localhost:8080/",
          "height": 542
        },
        "id": "RyziO7u28nL1",
        "outputId": "cccb8884-9701-4ad1-8299-5b141fbd6237"
      },
      "outputs": [],
      "source": [
        "px.scatter(df, x=\"Wohnflaeche\", y=\"Preis\", opacity=0.25)"
      ]
    },
    {
      "cell_type": "markdown",
      "metadata": {
        "id": "HocY6IdzGX3Y"
      },
      "source": [
        "## Ausreißer entfernen\n",
        "\n",
        "Wir können die Daten mit `filter` und einem logischen Ausdruck einschränken."
      ]
    },
    {
      "cell_type": "code",
      "execution_count": null,
      "metadata": {
        "colab": {
          "base_uri": "https://localhost:8080/",
          "height": 80
        },
        "id": "YhCkDYpPGhHt",
        "outputId": "5becc496-2b2a-4bd0-d235-6dba20993342"
      },
      "outputs": [],
      "source": [
        "# alle Häuser mit einem Preis größer als (gt=greater than) 700.000 US$\n",
        "expensive_houses = df.filter(pl.col(\"Preis\").gt(700000))\n",
        "expensive_houses"
      ]
    },
    {
      "cell_type": "code",
      "execution_count": null,
      "metadata": {},
      "outputs": [],
      "source": [
        "# alle Häuser mit einem Preis kleiner als (le=less or equal) 50.000 US$\n",
        "cheap_houses = df.filter(pl.col(\"Preis\").le(30000))\n",
        "cheap_houses"
      ]
    },
    {
      "cell_type": "markdown",
      "metadata": {},
      "source": [
        "Für die praktischen Übungen haben wir ein simples Quizsystem."
      ]
    },
    {
      "cell_type": "code",
      "execution_count": null,
      "metadata": {},
      "outputs": [],
      "source": [
        "# Frage ausgeben\n",
        "q0.question()"
      ]
    },
    {
      "cell_type": "code",
      "execution_count": null,
      "metadata": {},
      "outputs": [],
      "source": [
        "# Lösung angeben\n",
        "solution = ..."
      ]
    },
    {
      "cell_type": "code",
      "execution_count": null,
      "metadata": {},
      "outputs": [],
      "source": [
        "# Lösung prüfen\n",
        "q0.check(solution)"
      ]
    },
    {
      "cell_type": "code",
      "execution_count": null,
      "metadata": {},
      "outputs": [],
      "source": [
        "# Hinweis auf die Lösung bekommen\n",
        "q0.hint()"
      ]
    },
    {
      "cell_type": "code",
      "execution_count": null,
      "metadata": {},
      "outputs": [],
      "source": [
        "# Lösung anzeigen\n",
        "q0.solution()"
      ]
    },
    {
      "cell_type": "markdown",
      "metadata": {
        "id": "HVfaVtDSHA6j"
      },
      "source": [
        "## Übung 1: Ausreißer entfernen\n",
        "Es gibt ein paar Häuser mit sehr hoher Wohnfläche. Entferne alle Häuser mit mehr als 4000 Quadratfuß Wohnfläche."
      ]
    },
    {
      "cell_type": "code",
      "execution_count": null,
      "metadata": {
        "id": "HRXcbXyeHisN"
      },
      "outputs": [],
      "source": [
        "q1.question()"
      ]
    },
    {
      "cell_type": "code",
      "execution_count": null,
      "metadata": {},
      "outputs": [],
      "source": [
        "q1_df = ..."
      ]
    },
    {
      "cell_type": "code",
      "execution_count": null,
      "metadata": {},
      "outputs": [],
      "source": [
        "q1.check(q1_df)"
      ]
    },
    {
      "cell_type": "markdown",
      "metadata": {
        "id": "d3hNTL2lHmv2"
      },
      "source": [
        "# Trainings und Testdatensatz erstellen\n",
        "\n",
        "Wir teilen unsere Daten in einen Trainings und einen Testdatensatz auf. Die meisten ML-Algorithmen mögen nur numerische Spalten, deshalb verwenden wir die Spalte `Nachbarschaft` jetzt noch nicht."
      ]
    },
    {
      "cell_type": "code",
      "execution_count": null,
      "metadata": {
        "id": "bF3McSU-H--H"
      },
      "outputs": [],
      "source": [
        "X = df.drop(columns=[\"Preis\", \"Nachbarschaft\"])\n",
        "y = df.get_column(\"Preis\")"
      ]
    },
    {
      "cell_type": "code",
      "execution_count": null,
      "metadata": {
        "id": "J1AOHrGiINUK"
      },
      "outputs": [],
      "source": [
        "X_train, X_test, y_train, y_test = train_test_split(X, y, test_size=0.2, random_state=42)"
      ]
    },
    {
      "cell_type": "markdown",
      "metadata": {
        "id": "Bs2cHS3RIYwW"
      },
      "source": [
        "## Übung 2: Train und Test vergleichen\n",
        "Untersuche die Datensätze `X_train`, `y_train` und `X_test`, `y_test` darauf, ob sie ähnliche statistische Eigenschaften haben."
      ]
    },
    {
      "cell_type": "code",
      "execution_count": null,
      "metadata": {
        "id": "-gAml289IiR1"
      },
      "outputs": [],
      "source": [
        "q2.question()"
      ]
    },
    {
      "cell_type": "code",
      "execution_count": null,
      "metadata": {},
      "outputs": [],
      "source": [
        "X_train_Zustand_median = ...\n",
        "y_train_median = ...\n",
        "X_test_Zustand_median = ...\n",
        "y_test_median = ..."
      ]
    },
    {
      "cell_type": "code",
      "execution_count": null,
      "metadata": {},
      "outputs": [],
      "source": [
        "q2.check(X_train_Zustand_median, y_train_median, X_test_Zustand_median, y_test_median)"
      ]
    },
    {
      "cell_type": "markdown",
      "metadata": {
        "id": "mwpC7EXIIz7k"
      },
      "source": [
        "# Lineares Modell trainieren\n",
        "\n",
        "Jetzt können wir schon unser erstes Modell trainieren. Wir trainieren das lineare Modell `sklearn.linear_model.LinearRegression` mit der Methode `fit`."
      ]
    },
    {
      "cell_type": "code",
      "execution_count": null,
      "metadata": {
        "colab": {
          "base_uri": "https://localhost:8080/"
        },
        "id": "w7TgxLBFBrMK",
        "outputId": "4791d6db-cc7c-4f41-8893-9399284be0ef"
      },
      "outputs": [],
      "source": [
        "model = LinearRegression()\n",
        "model.fit(X_train, y_train)\n",
        "\n",
        "for feature, coefficient in zip(model.feature_names_in_, model.coef_):\n",
        "    print(f\"{feature}: {coefficient:.1f}\")\n",
        "print(f\"Intercept: {model.intercept_:.1f}\")"
      ]
    },
    {
      "cell_type": "markdown",
      "metadata": {
        "id": "RWM6P87iJL1p"
      },
      "source": [
        "## Vorhersagen treffen und validieren\n",
        "\n",
        "Mit der Methode `predict` können wir Vorhersagen treffen."
      ]
    },
    {
      "cell_type": "code",
      "execution_count": null,
      "metadata": {
        "id": "Jbscfs9xBvht"
      },
      "outputs": [],
      "source": [
        "y_pred = model.predict(X_test)"
      ]
    },
    {
      "cell_type": "code",
      "execution_count": null,
      "metadata": {},
      "outputs": [],
      "source": [
        "idx = 10\n",
        "print(f\"Vorhergesagter Preis: {y_pred[idx]:.1f}\")\n",
        "print(f\"Wirklicher Preis: {y_test[idx]:.1f}\")\n",
        "print(f\"Abweichung: {(y_pred[idx] - y_test[idx])/y_test[idx]:.1%}\")\n",
        "X_test[idx]"
      ]
    },
    {
      "cell_type": "markdown",
      "metadata": {},
      "source": [
        "Wie gut die Vorhersage im Mittel ist, können wir mit dem Bestimmtheitsmaß $R^2$ messen. Für eine perfekte Vorhersage gilt $R^2=1$. Für eine konstante Vorhersage mit dem  Mittelwert gilt $R^2=0$."
      ]
    },
    {
      "cell_type": "code",
      "execution_count": null,
      "metadata": {
        "colab": {
          "base_uri": "https://localhost:8080/"
        },
        "id": "FSX8-4eRB2eQ",
        "outputId": "00182adc-2181-4b1f-cf8b-5a2aa8ca14f5"
      },
      "outputs": [],
      "source": [
        "# R^2 für eine perfekte Vorhersage ist 1.0\n",
        "y_pred_perfect = y_test\n",
        "metrics.r2_score(y_test, y_pred_perfect)"
      ]
    },
    {
      "cell_type": "code",
      "execution_count": null,
      "metadata": {},
      "outputs": [],
      "source": [
        "# R^2 für eine Vorhersage, die immer den Mittelwert vorhersagt, ist 0.0\n",
        "y_pred_mean = [y_test.mean()]*len(y_test)\n",
        "metrics.r2_score(y_test, y_pred_mean)"
      ]
    },
    {
      "cell_type": "code",
      "execution_count": null,
      "metadata": {},
      "outputs": [],
      "source": [
        "# R^2 = 0.75 kann gelesen werden als: 75% der Varianz in den Daten werden durch das Modell erklärt\n",
        "metrics.r2_score(y_test, y_pred)"
      ]
    },
    {
      "cell_type": "markdown",
      "metadata": {
        "id": "zIpaCi_FK40O"
      },
      "source": [
        "## Übung 3: Modell verbessern mit weniger Features\n",
        "\n",
        "Wie verändert sich die Qualität der Vorhersage, wenn Du zusätzliche Features entfernst (also nicht nur `Nachbarschaft`)?"
      ]
    },
    {
      "cell_type": "code",
      "execution_count": null,
      "metadata": {},
      "outputs": [],
      "source": [
        "q3.question()"
      ]
    },
    {
      "cell_type": "code",
      "execution_count": null,
      "metadata": {
        "id": "lSamP6NBK-MH"
      },
      "outputs": [],
      "source": [
        "X = df.drop(columns=[\"Preis\", \"Nachbarschaft\"]) # hier kannst Du zusätzliche Features entfernen\n",
        "y = df.get_column(\"Preis\")\n",
        "X_train, X_test, y_train, y_test = train_test_split(X, y, test_size=0.2, random_state=42)\n",
        "model = LinearRegression()\n",
        "model.fit(X_train, y_train)\n",
        "y_pred = model.predict(X_test)\n",
        "metrics.r2_score(y_test, y_pred)"
      ]
    },
    {
      "cell_type": "code",
      "execution_count": null,
      "metadata": {},
      "outputs": [],
      "source": [
        "q3.check(y_test, y_pred)"
      ]
    },
    {
      "cell_type": "markdown",
      "metadata": {
        "id": "f707kjdRLZiq"
      },
      "source": [
        "## Modell verbessern mit zusätzlichen Features\n",
        "\n",
        "Wir können zusätzliche Features berechnen und so unserem Modell helfen bessere Vorhersagen zu machen.\n",
        "\n",
        "Zum Beispiel könnten wir die Qualität mit dem Zustand multiplizieren."
      ]
    },
    {
      "cell_type": "code",
      "execution_count": null,
      "metadata": {},
      "outputs": [],
      "source": [
        "df = pl.read_csv(\"AmesHousing.csv\")\n",
        "df = df.with_columns(\n",
        "    (pl.col(\"Zustand\")*pl.col(\"Qualitaet\")).alias(\"Qualitaet*Zustand\")\n",
        ")\n",
        "df.head()"
      ]
    },
    {
      "cell_type": "code",
      "execution_count": null,
      "metadata": {},
      "outputs": [],
      "source": [
        "X = df.drop(columns=[\"Preis\", \"Nachbarschaft\"])\n",
        "y = df.get_column(\"Preis\")\n",
        "X_train, X_test, y_train, y_test = train_test_split(X, y, test_size=0.2, random_state=42)\n",
        "model = LinearRegression()\n",
        "model.fit(X_train, y_train)\n",
        "y_pred = model.predict(X_test)\n",
        "metrics.r2_score(y_test, y_pred)"
      ]
    },
    {
      "cell_type": "markdown",
      "metadata": {
        "id": "fOTuFcpyL76c"
      },
      "source": [
        "## Übung 4: Zusätzliches Features Alter beim Verkauf"
      ]
    },
    {
      "cell_type": "code",
      "execution_count": null,
      "metadata": {},
      "outputs": [],
      "source": [
        "q4.question()"
      ]
    },
    {
      "cell_type": "code",
      "execution_count": null,
      "metadata": {},
      "outputs": [],
      "source": [
        "# Daten neu laden und R2 ohne neues Feature berechnen -> diesen Code NICHT ändern!\n",
        "df_before = pl.read_csv(\"AmesHousing.csv\")\n",
        "model_before, r2_before = train_fit_predict_score(LinearRegression(), df_before)\n",
        "print(r2_before)"
      ]
    },
    {
      "cell_type": "code",
      "execution_count": null,
      "metadata": {},
      "outputs": [],
      "source": [
        "# hier das neue Feature hinzufügen -> diesen Code ERGÄNZEN!\n",
        "df_after = pl.read_csv(\"AmesHousing.csv\")\n",
        "df_after = ..."
      ]
    },
    {
      "cell_type": "code",
      "execution_count": null,
      "metadata": {},
      "outputs": [],
      "source": [
        "# R2 mit neuem Feature berechnen -> diesen Code NICHT ändern!\n",
        "if type(df_after) != type(Ellipsis):\n",
        "    model_after, r2_after = train_fit_predict_score(LinearRegression(), df_after)\n",
        "    print(r2_after)\n",
        "    if r2_after > r2_before:\n",
        "        print(\"Das neue Feature hat die Vorhersage verbessert!\")\n",
        "    elif r2_after < r2_before:\n",
        "        print(\"Das neue Feature hat die Vorhersage verschlechtert!\")\n",
        "    else:\n",
        "        print(\"Das neue Feature hat die Vorhersage nicht verändert!\")\n",
        "else:\n",
        "    r2_after = None"
      ]
    },
    {
      "cell_type": "code",
      "execution_count": null,
      "metadata": {
        "id": "Cis38yo1MQK5"
      },
      "outputs": [],
      "source": [
        "q4.check(df_after, r2_before, r2_after)"
      ]
    },
    {
      "cell_type": "markdown",
      "metadata": {
        "id": "458r64cfMdzL"
      },
      "source": [
        "## Andere Modelle (Zusatzaufgabe 1)"
      ]
    },
    {
      "cell_type": "code",
      "execution_count": null,
      "metadata": {},
      "outputs": [],
      "source": [
        "q5.question()"
      ]
    },
    {
      "cell_type": "code",
      "execution_count": null,
      "metadata": {},
      "outputs": [],
      "source": [
        "q5_model = ..."
      ]
    },
    {
      "cell_type": "code",
      "execution_count": null,
      "metadata": {},
      "outputs": [],
      "source": [
        "q5.check(q5_model)"
      ]
    },
    {
      "cell_type": "markdown",
      "metadata": {
        "id": "3dZ4mEihNudW"
      },
      "source": [
        "## Information über die Nachbarschaften nutzen (Zusatzaufgabe 2)\n",
        "\n",
        "Jetzt wollen wir die Spalte `Nachbarschaft` nutzen. Wir können die Spalte einfach in einen numerischen Index-Wert umwandeln (1, 2, 3, ...) und schauen, ob das den Modellen hilft. Das nennt man auch *Integer Encoding*."
      ]
    },
    {
      "cell_type": "code",
      "execution_count": null,
      "metadata": {
        "colab": {
          "base_uri": "https://localhost:8080/"
        },
        "id": "u8R6_TrJNzv1",
        "outputId": "2963bc82-dcdb-4378-eb0c-68ae57ae0455"
      },
      "outputs": [],
      "source": [
        "df_int_encoding = df.with_columns(pl.col(\"Nachbarschaft\").cast(pl.Categorical).cast(pl.Int64).alias(\"NachbarschaftIntegerEncoding\"))\n",
        "df_int_encoding.sample(5)"
      ]
    },
    {
      "cell_type": "markdown",
      "metadata": {
        "id": "bZFhOSEjOoJF"
      },
      "source": [
        "Eine andere Variante ist es für jeden Wert der Spalte eine eigene Spalte anzulegen, die ja nach Ausprägung jeweils den Wert `0` oder `1` annimmt. Das nennt man *One Hot Encoding* oder auch *Dummy Encoding*."
      ]
    },
    {
      "cell_type": "code",
      "execution_count": null,
      "metadata": {
        "colab": {
          "base_uri": "https://localhost:8080/",
          "height": 224
        },
        "id": "ogrSEahQOXb4",
        "outputId": "d982674b-6eb3-4c45-a217-f6fd6e29edfe"
      },
      "outputs": [],
      "source": [
        "df_dummy_encoding = df.to_dummies(\"Nachbarschaft\")\n",
        "df_dummy_encoding.sample(5)"
      ]
    },
    {
      "cell_type": "markdown",
      "metadata": {
        "id": "T3Kj2i8LPjDu"
      },
      "source": [
        "Die dritte Variante ist das *Target Encoding*. Wir nutzen die Infos aus den Trainingsdaten und berechnen den durchschnittlichen Verkaufspreis je Nachbarschaft. Wichtig zu beachten ist, dass wir dafür nur den Trainingsdatensatz benutzen."
      ]
    },
    {
      "cell_type": "code",
      "execution_count": null,
      "metadata": {
        "colab": {
          "base_uri": "https://localhost:8080/",
          "height": 204
        },
        "id": "PuWpDwRxP67N",
        "outputId": "0b640960-5149-4a97-92a5-744299729495"
      },
      "outputs": [],
      "source": [
        "X = df.drop(columns=\"Preis\")\n",
        "y = df.get_column(\"Preis\")\n",
        "X_train, X_test, y_train, y_test = train_test_split(X, y, test_size=0.2, random_state=42)\n",
        "\n",
        "target_encoding = X_train.hstack(pl.DataFrame(y_train)).group_by(\"Nachbarschaft\").agg(pl.col(\"Preis\").mean().alias(\"NachbarschaftsPreis\"))\n",
        "target_encoding.sample(5)"
      ]
    },
    {
      "cell_type": "code",
      "execution_count": null,
      "metadata": {},
      "outputs": [],
      "source": [
        "q6.question()"
      ]
    },
    {
      "cell_type": "code",
      "execution_count": null,
      "metadata": {},
      "outputs": [],
      "source": [
        "q6_best_encoding_linear_regression = ... # \"Target Encoding\", \"Dummy Encoding\" oder \"Integer Encoding\"\n",
        "q6_best_encoding_random_forest = ... # \"Target Encoding\", \"Dummy Encoding\" oder \"Integer Encoding\"# "
      ]
    },
    {
      "cell_type": "code",
      "execution_count": null,
      "metadata": {},
      "outputs": [],
      "source": [
        "q6.check(q6_best_encoding_linear_regression, q6_best_encoding_random_forest)"
      ]
    }
  ],
  "metadata": {
    "colab": {
      "provenance": []
    },
    "kernelspec": {
      "display_name": "Python 3",
      "name": "python3"
    },
    "language_info": {
      "codemirror_mode": {
        "name": "ipython",
        "version": 3
      },
      "file_extension": ".py",
      "mimetype": "text/x-python",
      "name": "python",
      "nbconvert_exporter": "python",
      "pygments_lexer": "ipython3",
      "version": "3.10.13"
    }
  },
  "nbformat": 4,
  "nbformat_minor": 0
}
