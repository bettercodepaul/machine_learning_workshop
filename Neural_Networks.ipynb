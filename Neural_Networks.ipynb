{
  "cells": [
    {
      "cell_type": "markdown",
      "metadata": {},
      "source": [
        "<a target=\"_blank\" href=\"https://colab.research.google.com/github/bettercodepaul/machine_learning_workshop/blob/main/Neural_Networks.ipynb\">\n",
        "  <img src=\"https://colab.research.google.com/assets/colab-badge.svg\" alt=\"Open In Colab\"/>\n",
        "</a>"
      ]
    },
    {
      "cell_type": "markdown",
      "metadata": {},
      "source": [
        "## !!! WICHTIG: ÄNDERT DIE RUNTIME ZUERST AUF T4 GPU: Runtime > Change runtime Type"
      ]
    },
    {
      "cell_type": "code",
      "execution_count": null,
      "metadata": {},
      "outputs": [],
      "source": [
        "!pip install timm"
      ]
    },
    {
      "cell_type": "code",
      "execution_count": null,
      "metadata": {
        "id": "v2BV9BRQaLd1"
      },
      "outputs": [],
      "source": [
        "import os\n",
        "import timm\n",
        "from fastai.vision.all import *\n",
        "from IPython.display import Image"
      ]
    },
    {
      "cell_type": "code",
      "execution_count": null,
      "metadata": {
        "colab": {
          "base_uri": "https://localhost:8080/"
        },
        "id": "UCfL9C_LaW77",
        "outputId": "3790d252-4317-47ae-a682-b61d1cf4b372"
      },
      "outputs": [],
      "source": [
        "# download MNIST data set\n",
        "DATA_URL = \"https://github.com/bettercodepaul/machine_learning_workshop/releases/download/data/mnist.tgz\"\n",
        "LOCAL_DATA_FILE_NAME = os.path.basename(DATA_URL)\n",
        "urllib.request.urlretrieve(DATA_URL, LOCAL_DATA_FILE_NAME)"
      ]
    },
    {
      "cell_type": "code",
      "execution_count": null,
      "metadata": {
        "id": "V8ZGJsIkbJ0h"
      },
      "outputs": [],
      "source": [
        "!tar -zxf mnist.tgz"
      ]
    },
    {
      "cell_type": "code",
      "execution_count": null,
      "metadata": {},
      "outputs": [],
      "source": [
        "# download excercises and utility functions\n",
        "EXERCISES_URL = \"https://raw.githubusercontent.com/bettercodepaul/machine_learning_workshop/main/exercises.py\"\n",
        "urllib.request.urlretrieve(EXERCISES_URL, os.path.basename(EXERCISES_URL))"
      ]
    },
    {
      "cell_type": "code",
      "execution_count": null,
      "metadata": {},
      "outputs": [],
      "source": [
        "from exercises import *"
      ]
    },
    {
      "cell_type": "markdown",
      "metadata": {
        "id": "-um7fskFwRVX"
      },
      "source": [
        "# Multi Layer Perceptron\n",
        "\n",
        "Wir starten mit dem Training eines einfachen Multi Layer Perceptron. Wir nutzen für das Training die Bibliothek fast.ai die auf PyTorch aufsetzt.\n",
        "\n",
        "Wir nutzen die Bilder des MNIST-Datensatzes (wie aus dem Video)..."
      ]
    },
    {
      "cell_type": "code",
      "execution_count": null,
      "metadata": {
        "colab": {
          "base_uri": "https://localhost:8080/"
        },
        "id": "J6jA_2bqw58a",
        "outputId": "955ae480-621f-463f-ac69-a4b1afb0d6c5"
      },
      "outputs": [],
      "source": [
        "!ls /content/mnist"
      ]
    },
    {
      "cell_type": "code",
      "execution_count": null,
      "metadata": {
        "colab": {
          "base_uri": "https://localhost:8080/"
        },
        "id": "PgiVPwK_w2Tx",
        "outputId": "25986656-c5e7-4313-9fe2-fef75b4b4d0a"
      },
      "outputs": [],
      "source": [
        "!ls /content/mnist/train"
      ]
    },
    {
      "cell_type": "code",
      "execution_count": null,
      "metadata": {
        "id": "YEoeTQIrw9dm"
      },
      "outputs": [],
      "source": [
        "path = \"/content/mnist\"\n",
        "trn_path = path + \"/train\""
      ]
    },
    {
      "cell_type": "code",
      "execution_count": null,
      "metadata": {
        "id": "cv52_HtxwkfX"
      },
      "outputs": [],
      "source": [
        "# die Bilder aus dem Trainingsordner laden, 20% der Bilder für die Validierung und eine Batch-Größe von 256\n",
        "dls = ImageDataLoaders.from_folder(trn_path, valid_pct=0.2, bs=256)"
      ]
    },
    {
      "cell_type": "code",
      "execution_count": null,
      "metadata": {
        "colab": {
          "base_uri": "https://localhost:8080/",
          "height": 753
        },
        "id": "I3nv2mdPxHeF",
        "outputId": "3d2e9330-a3da-486e-ae97-6cde1472f142"
      },
      "outputs": [],
      "source": [
        "# wir können uns einen Batch probehalber ausgeben (reduziert auf 9 Bilder)\n",
        "dls.show_batch(max_n=9)"
      ]
    },
    {
      "cell_type": "markdown",
      "metadata": {
        "id": "1fSkd6DIxdk1"
      },
      "source": [
        "Welche Dimension wird der Input in unser neuronales Netz haben?"
      ]
    },
    {
      "cell_type": "code",
      "execution_count": null,
      "metadata": {
        "colab": {
          "base_uri": "https://localhost:8080/"
        },
        "id": "2ib-09u6xckG",
        "outputId": "3ff0d0d1-3d44-4221-bbc5-5c8f180fbb8e"
      },
      "outputs": [],
      "source": [
        "X, y = dls.one_batch()\n",
        "print(f\"Input Shape: {X.shape}\")\n",
        "print(f\"Target Shape: {y.shape}\")"
      ]
    },
    {
      "cell_type": "markdown",
      "metadata": {
        "id": "8XaSCMa9x1-8"
      },
      "source": [
        "In das neuronale Netzwerk wird `X` mit 256 Bildern mit jeweils 3 Kanälen (RGB) und 28x28 Pixel eingegeben. Für jedes der 256 Bilder gibt es genau eine Kategorie im Target `y`. Hier z.B. die ersten 10 Targets..."
      ]
    },
    {
      "cell_type": "code",
      "execution_count": null,
      "metadata": {
        "colab": {
          "base_uri": "https://localhost:8080/"
        },
        "id": "1jQtGlX_yIuR",
        "outputId": "1c813c6f-cbd0-4751-9b9c-291c9fc9e2b7"
      },
      "outputs": [],
      "source": [
        "y[0:10]"
      ]
    },
    {
      "cell_type": "markdown",
      "metadata": {},
      "source": [
        "Die Kategorien können wir auch über das \"Vokabular\" des Dataloaders ansehen."
      ]
    },
    {
      "cell_type": "code",
      "execution_count": null,
      "metadata": {},
      "outputs": [],
      "source": [
        "class_names = dls.vocab\n",
        "class_count = len(class_names)\n",
        "\n",
        "print(f\"{class_count} Klassen: {class_names}\")"
      ]
    },
    {
      "cell_type": "markdown",
      "metadata": {
        "id": "P5EfuDoM0QKS"
      },
      "source": [
        "Obwohl wir die Bilder als RGB einlesen, enthalten sie keine Farbinformationen. Wir fassen deshalb die 3-Kanäle mit der Funktion `mean` zu einem zusammen."
      ]
    },
    {
      "cell_type": "code",
      "execution_count": null,
      "metadata": {
        "colab": {
          "base_uri": "https://localhost:8080/"
        },
        "id": "ylWSPij7faT-",
        "outputId": "231bd73a-15d2-4744-c660-43cd67b08aa7"
      },
      "outputs": [],
      "source": [
        "X_single_channel = X.mean(dim=1)\n",
        "X_single_channel.shape"
      ]
    },
    {
      "cell_type": "markdown",
      "metadata": {
        "id": "Rww5hyod6OHf"
      },
      "source": [
        "Mit der Funktion `view` können wir die zweidimensionalen Bilder in eine Dimension projizieren, bevor sie im neuronalen Netzwerk weiter verarbeitet werden."
      ]
    },
    {
      "cell_type": "code",
      "execution_count": null,
      "metadata": {
        "colab": {
          "base_uri": "https://localhost:8080/"
        },
        "id": "FC0FBJQY0ssu",
        "outputId": "ea704f0d-b561-4444-ff0a-7d78620ee83c"
      },
      "outputs": [],
      "source": [
        "X_flatten = X_single_channel.view(-1, 28*28)\n",
        "X_flatten.shape"
      ]
    },
    {
      "cell_type": "markdown",
      "metadata": {
        "id": "yyuqjljD2moz"
      },
      "source": [
        "Wir definieren jetzt ein einfaches Multi Layer Perceptron mit der Aktivierungsfunktion ReLU."
      ]
    },
    {
      "cell_type": "code",
      "execution_count": null,
      "metadata": {
        "id": "tWXsCYAT03lG"
      },
      "outputs": [],
      "source": [
        "class SimpleMlp(nn.Module):\n",
        "    def __init__(self, width, height, hidden_1_size, hidden_2_size, output_size):\n",
        "        super().__init__()\n",
        "        self.width = width\n",
        "        self.height = height\n",
        "        self.output_size = output_size\n",
        "        self.input_layer = nn.Linear(width*height, hidden_1_size, bias=True)\n",
        "        self.hidden_layer = nn.Linear(hidden_1_size, hidden_2_size, bias=True)\n",
        "        self.output_layer = nn.Linear(hidden_2_size, output_size, bias=True)\n",
        "\n",
        "    def forward(self, xb):\n",
        "        # RGB-Channel zusammenfassen und Projektion auf 1D\n",
        "        x = xb.mean(dim=1).view(-1, self.width*self.height)\n",
        "        x = F.relu(self.input_layer(x))\n",
        "        x = F.relu(self.hidden_layer(x))\n",
        "        return self.output_layer(x)"
      ]
    },
    {
      "cell_type": "markdown",
      "metadata": {},
      "source": []
    },
    {
      "cell_type": "code",
      "execution_count": null,
      "metadata": {},
      "outputs": [],
      "source": [
        "# Modell erstellen und auf das Gerät laden (GPU/CPU/MPS) auf dem der Dataloader operiert\n",
        "model = SimpleMlp(28, 28, 16, 16, 10).to(dls.device)"
      ]
    },
    {
      "cell_type": "code",
      "execution_count": null,
      "metadata": {},
      "outputs": [],
      "source": [
        "# zur Erinnerung der Batch umfasst 256 Bilder, 3 Kanäle für RGB und 28x28 Pixel\n",
        "X.shape"
      ]
    },
    {
      "cell_type": "code",
      "execution_count": null,
      "metadata": {},
      "outputs": [],
      "source": [
        "# wir schicken den Batch durch das Modell\n",
        "result = model.forward(X)"
      ]
    },
    {
      "cell_type": "code",
      "execution_count": null,
      "metadata": {},
      "outputs": [],
      "source": [
        "# und erhalten für jedes der 256 Bilder und jede Klasse einen Wert\n",
        "result.shape"
      ]
    },
    {
      "cell_type": "code",
      "execution_count": null,
      "metadata": {},
      "outputs": [],
      "source": [
        "# die Werte sind aber aktuell wenig sinnvoll, weil das Netz nicht trainiert wurde\n",
        "result[0]"
      ]
    },
    {
      "cell_type": "markdown",
      "metadata": {
        "id": "ZixHfEIx22Dg"
      },
      "source": [
        "Mit einem Learner können wir ein definiertes Modell trainieren."
      ]
    },
    {
      "cell_type": "code",
      "execution_count": null,
      "metadata": {
        "id": "R1Vok6-tf6uU"
      },
      "outputs": [],
      "source": [
        "dls = ImageDataLoaders.from_folder(trn_path, valid_pct=0.2, bs=256)\n",
        "learn = Learner(\n",
        "    dls,\n",
        "    model=SimpleMlp(28, 28, 16, 16, 10),\n",
        "    loss_func=nn.CrossEntropyLoss(),\n",
        "    metrics=accuracy\n",
        ")"
      ]
    },
    {
      "cell_type": "markdown",
      "metadata": {
        "id": "lMXcZPGT61Dz"
      },
      "source": [
        "Für 3 Epochen trainieren mit einer initialen Lernrate von `0.01`."
      ]
    },
    {
      "cell_type": "code",
      "execution_count": null,
      "metadata": {
        "colab": {
          "base_uri": "https://localhost:8080/",
          "height": 140
        },
        "id": "ttIcTZSWdhLP",
        "outputId": "ad182248-0cde-4bf4-edec-8111304fd2ba"
      },
      "outputs": [],
      "source": [
        "learn.fit_one_cycle(3, 0.01)"
      ]
    },
    {
      "cell_type": "markdown",
      "metadata": {
        "id": "dRFxOgC63jKA"
      },
      "source": [
        "Die Loss-Values während des Trainings können wir als Diagramm ausgeben."
      ]
    },
    {
      "cell_type": "code",
      "execution_count": null,
      "metadata": {
        "colab": {
          "base_uri": "https://localhost:8080/",
          "height": 431
        },
        "id": "sW-A0zmUfNfC",
        "outputId": "972d4081-d6ec-46db-f9d8-64ecf4fbbc6d"
      },
      "outputs": [],
      "source": [
        "learn.recorder.plot_loss()"
      ]
    },
    {
      "cell_type": "markdown",
      "metadata": {
        "id": "eApYL_RL82ch"
      },
      "source": [
        "# Übung mit einem MLP und MNIST\n",
        "\n",
        "Probiere unterschiedliche Hyperparameter aus:\n",
        "\n",
        "- Was passiert, wenn du die Batchgröße reduzierst oder erhöhst?\n",
        "- Was passiert, wenn du die initiale Lernrate reduzierst oder erhöhst?\n",
        "- Was passiert, wenn du die Größe der Hidden-Layers veränderst, vielleicht sogar kleiner als die Output-Layer wählst?\n",
        "- Du kannst andere Aktivierungsfunktionen ausprobieren, z.B. `F.sigmoid` oder `F.tanh`"
      ]
    },
    {
      "cell_type": "code",
      "execution_count": null,
      "metadata": {},
      "outputs": [],
      "source": [
        "# Platz für deinen Code"
      ]
    },
    {
      "cell_type": "markdown",
      "metadata": {
        "id": "tRJyefxL9WF5"
      },
      "source": [
        "# Übung mit einem MLP und einem WhichCar-Datensatz"
      ]
    },
    {
      "cell_type": "markdown",
      "metadata": {},
      "source": [
        "Anstatt der ollen Ziffern aus dem MNIST-Datensatz versuchen wir uns jetzt an schicken Autos aus einem Datensatz, mit dem wir das neuronale Netz für unsere WhichCar-App trainiert haben. Mal schauen, wie gut wir die Typklassen der Autos vorhersagen können!"
      ]
    },
    {
      "cell_type": "code",
      "execution_count": null,
      "metadata": {
        "colab": {
          "base_uri": "https://localhost:8080/"
        },
        "id": "I1ngdf5W5iUY",
        "outputId": "a6cb213c-9df6-4c5a-d177-001939e53c96"
      },
      "outputs": [],
      "source": [
        "# download mercedes-12k data set\n",
        "DATA_URL = \"https://github.com/bettercodepaul/machine_learning_workshop/releases/download/data/mercedes-12k.tgz\"\n",
        "LOCAL_DATA_FILE_NAME = os.path.basename(DATA_URL)\n",
        "urllib.request.urlretrieve(DATA_URL, LOCAL_DATA_FILE_NAME)"
      ]
    },
    {
      "cell_type": "code",
      "execution_count": null,
      "metadata": {
        "id": "cwFGGrWo9dcI"
      },
      "outputs": [],
      "source": [
        "!tar -zxf mercedes-12k.tgz"
      ]
    },
    {
      "cell_type": "code",
      "execution_count": null,
      "metadata": {
        "colab": {
          "base_uri": "https://localhost:8080/"
        },
        "id": "sVPzlG4o9kMf",
        "outputId": "2ccb5f9b-49a1-46a2-b6b1-470445299d83"
      },
      "outputs": [],
      "source": [
        "trn_path = \"/content/mercedes-12k/train\"\n",
        "dls = ImageDataLoaders.from_folder(trn_path, valid_pct=0.2, bs=16, item_tfms=Resize(224))"
      ]
    },
    {
      "cell_type": "code",
      "execution_count": null,
      "metadata": {
        "colab": {
          "base_uri": "https://localhost:8080/",
          "height": 753
        },
        "id": "ULxnq_x9BJKw",
        "outputId": "4ec04a0b-82e3-429b-8697-a9b683ae8faf"
      },
      "outputs": [],
      "source": [
        "dls.show_batch(max_n=9)"
      ]
    },
    {
      "cell_type": "code",
      "execution_count": null,
      "metadata": {},
      "outputs": [],
      "source": [
        "q8.question()"
      ]
    },
    {
      "cell_type": "code",
      "execution_count": null,
      "metadata": {},
      "outputs": [],
      "source": [
        "q8_width=...\n",
        "q8_height=..."
      ]
    },
    {
      "cell_type": "code",
      "execution_count": null,
      "metadata": {},
      "outputs": [],
      "source": [
        "q8.check(q8_width, q8_height)"
      ]
    },
    {
      "cell_type": "code",
      "execution_count": null,
      "metadata": {},
      "outputs": [],
      "source": [
        "q9.question()"
      ]
    },
    {
      "cell_type": "code",
      "execution_count": null,
      "metadata": {},
      "outputs": [],
      "source": [
        "q9_output_size = ..."
      ]
    },
    {
      "cell_type": "code",
      "execution_count": null,
      "metadata": {},
      "outputs": [],
      "source": [
        "q9.check(q9_output_size)"
      ]
    },
    {
      "cell_type": "code",
      "execution_count": null,
      "metadata": {},
      "outputs": [],
      "source": [
        "q10.question()"
      ]
    },
    {
      "cell_type": "code",
      "execution_count": null,
      "metadata": {},
      "outputs": [],
      "source": [
        "q10_model = ..."
      ]
    },
    {
      "cell_type": "code",
      "execution_count": null,
      "metadata": {},
      "outputs": [],
      "source": [
        "q10.check(q10_model)"
      ]
    },
    {
      "cell_type": "code",
      "execution_count": null,
      "metadata": {},
      "outputs": [],
      "source": [
        "q11.question()"
      ]
    },
    {
      "cell_type": "code",
      "execution_count": null,
      "metadata": {
        "id": "Nlm0iceD93WC"
      },
      "outputs": [],
      "source": [
        "q11_learn = ..."
      ]
    },
    {
      "cell_type": "code",
      "execution_count": null,
      "metadata": {},
      "outputs": [],
      "source": [
        "q11.check(q11_learn)"
      ]
    },
    {
      "cell_type": "markdown",
      "metadata": {},
      "source": [
        "# Convolutional Networks und Standard-Architekturen\n",
        "\n",
        "Mit unserem einfachen MLP werden wir nicht besonders weit kommen. Anstatt jetzt selber zu forschen, was für eine Modellarchitektur funktionieren könnte, nehmen wir eine vordefinierte Architektur, die bekanntermaßen gut funktioniert."
      ]
    },
    {
      "cell_type": "code",
      "execution_count": null,
      "metadata": {},
      "outputs": [],
      "source": [
        "learn = vision_learner(dls, \"resnet18\", pretrained=False, metrics=accuracy, path='.').to_fp16()"
      ]
    },
    {
      "cell_type": "code",
      "execution_count": null,
      "metadata": {},
      "outputs": [],
      "source": [
        "learn.fit_one_cycle(3, 0.01)"
      ]
    },
    {
      "cell_type": "code",
      "execution_count": null,
      "metadata": {},
      "outputs": [],
      "source": [
        "learn.recorder.plot_loss()"
      ]
    },
    {
      "cell_type": "markdown",
      "metadata": {},
      "source": [
        "Das Training kann deutlich verbessert werden, in dem wir ein Modell nutzen, das schon auf einem anderen Datensatz vortrainiert wurde (`pretrained=True`)."
      ]
    },
    {
      "cell_type": "code",
      "execution_count": null,
      "metadata": {},
      "outputs": [],
      "source": [
        "learn = vision_learner(dls, \"resnet18\", pretrained=True, metrics=accuracy, path='.').to_fp16()"
      ]
    },
    {
      "cell_type": "code",
      "execution_count": null,
      "metadata": {},
      "outputs": [],
      "source": [
        "learn.fit_one_cycle(3, 0.01)"
      ]
    },
    {
      "cell_type": "code",
      "execution_count": null,
      "metadata": {},
      "outputs": [],
      "source": [
        "learn.recorder.plot_loss()"
      ]
    },
    {
      "cell_type": "markdown",
      "metadata": {},
      "source": [
        "Eine weitere Verbesserung können wir durch eine andere Architektur erreichen."
      ]
    },
    {
      "cell_type": "code",
      "execution_count": null,
      "metadata": {},
      "outputs": [],
      "source": [
        "# für weitere Modelle und Benchmarks siehe auch https://huggingface.co/timm\n",
        "learn = vision_learner(dls, \"convnextv2_tiny\", pretrained=True, metrics=accuracy, path='.').to_fp16()"
      ]
    },
    {
      "cell_type": "code",
      "execution_count": null,
      "metadata": {},
      "outputs": [],
      "source": [
        "learn.fit_one_cycle(3, 0.01)"
      ]
    },
    {
      "cell_type": "markdown",
      "metadata": {},
      "source": [
        "Ganz tief in die Trickkiste gegriffen, können wir das Modell noch weiter verbessern. Wir nutzen jetzt größere Bilder und verändern die Bilder zufällig während des Trainings, so dass das Modell das gleiche Bild im Training nicht doppelt zu sehen bekommt."
      ]
    },
    {
      "cell_type": "code",
      "execution_count": null,
      "metadata": {},
      "outputs": [],
      "source": [
        "# Jetzt kannst Du noch probieren die Genauigkeit in unbekannte Höhen zu treiben :-)"
      ]
    }
  ],
  "metadata": {
    "colab": {
      "provenance": []
    },
    "kernelspec": {
      "display_name": "Python 3",
      "name": "python3"
    },
    "language_info": {
      "codemirror_mode": {
        "name": "ipython",
        "version": 3
      },
      "file_extension": ".py",
      "mimetype": "text/x-python",
      "name": "python",
      "nbconvert_exporter": "python",
      "pygments_lexer": "ipython3",
      "version": "3.10.13"
    }
  },
  "nbformat": 4,
  "nbformat_minor": 0
}
